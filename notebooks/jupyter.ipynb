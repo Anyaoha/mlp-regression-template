{
 "cells": [
  {
   "cell_type": "code",
   "execution_count": null,
   "metadata": {},
   "outputs": [],
   "source": [
    "%load_ext autoreload\n",
    "%autoreload 2"
   ]
  },
  {
   "cell_type": "code",
   "execution_count": null,
   "metadata": {},
   "outputs": [],
   "source": [
    "# Pipeline and steps are the main concepts one interacts with MLflow Pipelines.\n",
    "# To create a Pipeline, simply do p = Pipeline() within this pipeline template directory.\n",
    "#\n",
    "# There are 5 major steps within a Pipeline:\n",
    "# - \"ingest\":     through this step all data about an ML problem is ingested. To run it, call p.run(\"ingest\").\n",
    "#                 After running this step. You can fetch the ingested data via p.get_artifact(\"ingested_data\")\n",
    "#                 By default ingest support Parquet file and Spark SQL commands. For other data formats,\n",
    "#                 modify {template_root}/steps/ingest.py. We have provided an example there for CSV files.\n",
    "#\n",
    "# - \"split\":     In this step, we split the ingested dataset into 3 subsets, namely, \"training\", \"validation\"\n",
    "#                and \"test\". You can specify the split ratio in pipeline.yaml. If you want to do additional\n",
    "#                data processing such as cleaning, see {template_root}/steps/split.py for example.\n",
    "#\n",
    "# - \"transform\": This is the place to do feature transformation. Here we require an unfitted transformer to be\n",
    "#                returned by the user. See {template_root}/steps/transform.py for examples.\n",
    "#\n",
    "# - \"train\":     This is the step to train an estimator. We require an unfitted sklearn estimator to be returned\n",
    "#                by the user. See {template_root}/steps/train.py for examples.\n",
    "#\n",
    "# - \"evaluate\":  In this step, we evaluate the model via mlflow.evaluate() on the test dataset. If you have custom\n",
    "#                metrics to be evaluated, specify them in pipeline.yaml and {template_root}/steps/custom_metrics.py.\n",
    "#\n",
    "# - \"register\":  We provide an option to register the model after training and evaluation at this step.\n",
    "\n",
    "from mlflow.pipelines import Pipeline\n",
    "\n",
    "p = Pipeline()"
   ]
  },
  {
   "cell_type": "code",
   "execution_count": null,
   "metadata": {},
   "outputs": [],
   "source": [
    "p.clean()"
   ]
  },
  {
   "cell_type": "code",
   "execution_count": null,
   "metadata": {},
   "outputs": [],
   "source": [
    "p.inspect()"
   ]
  },
  {
   "cell_type": "code",
   "execution_count": null,
   "metadata": {},
   "outputs": [],
   "source": [
    "p.run(\"ingest\")"
   ]
  },
  {
   "cell_type": "code",
   "execution_count": null,
   "metadata": {},
   "outputs": [],
   "source": [
    "p.run(\"split\")"
   ]
  },
  {
   "cell_type": "code",
   "execution_count": null,
   "metadata": {},
   "outputs": [],
   "source": [
    "p.run(\"transform\")"
   ]
  },
  {
   "cell_type": "code",
   "execution_count": null,
   "metadata": {},
   "outputs": [],
   "source": [
    "p.run(\"train\")"
   ]
  },
  {
   "cell_type": "code",
   "execution_count": null,
   "metadata": {},
   "outputs": [],
   "source": [
    "p.run(\"evaluate\")"
   ]
  },
  {
   "cell_type": "code",
   "execution_count": null,
   "metadata": {},
   "outputs": [],
   "source": [
    "p.run(\"register\")"
   ]
  },
  {
   "cell_type": "code",
   "execution_count": null,
   "metadata": {},
   "outputs": [],
   "source": [
    "p.inspect(\"train\")"
   ]
  },
  {
   "cell_type": "code",
   "execution_count": null,
   "metadata": {},
   "outputs": [],
   "source": [
    "test_data = p.get_artifact(\"test_data\")\n",
    "test_data.describe()"
   ]
  }
 ],
 "metadata": {
  "interpreter": {
   "hash": "c462df992c775797bd5d542b280333286dbcc2ffa1f781b674f30e76741ca83d"
  },
  "kernelspec": {
   "display_name": "Python 3 (ipykernel)",
   "language": "python",
   "name": "python3"
  },
  "language_info": {
   "codemirror_mode": {
    "name": "ipython",
    "version": 3
   },
   "file_extension": ".py",
   "mimetype": "text/x-python",
   "name": "python",
   "nbconvert_exporter": "python",
   "pygments_lexer": "ipython3",
   "version": "3.8.5"
  }
 },
 "nbformat": 4,
 "nbformat_minor": 4
}
